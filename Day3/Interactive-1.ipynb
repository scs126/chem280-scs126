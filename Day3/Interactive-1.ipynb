{
 "cells": [
  {
   "cell_type": "markdown",
   "metadata": {
    "isInteractiveWindowMessageCell": true
   },
   "source": [
    "Connected to msse-python (Python 3.11.4)"
   ]
  },
  {
   "cell_type": "code",
   "execution_count": 1,
   "metadata": {},
   "outputs": [
    {
     "ename": "SyntaxError",
     "evalue": "expression cannot contain assignment, perhaps you meant \"==\"? (<ipython-input-1-8c69ff060e3e>, line 19)",
     "output_type": "error",
     "traceback": [
      "\u001b[0;36m  Cell \u001b[0;32mIn[1], line 19\u001b[0;36m\u001b[0m\n\u001b[0;31m    fig = plt.figure(fig.size=(4,4) )\u001b[0m\n\u001b[0m                     ^\u001b[0m\n\u001b[0;31mSyntaxError\u001b[0m\u001b[0;31m:\u001b[0m expression cannot contain assignment, perhaps you meant \"==\"?\n"
     ]
    }
   ],
   "source": [
    "#this function runs the Lennard-Jones equation on inputted values\n",
    "\n",
    "def calculate_LJ(r):\n",
    "    rij_6 = r ** 6\n",
    "    rij_12 = rij_6 ** 2\n",
    "    U = 4 * (rij_12 - rij_6)\n",
    "    return(U)\n",
    "\n",
    "incrmnt = 0.1\n",
    "iterations = (5 - 0.1)/incrmnt\n",
    "Us = []\n",
    "\n",
    "for i in range(iterations):\n",
    "    rs.append(incrmnt) #add i = ri to growing list of r values\n",
    "    Ui = calculate_LJ(i) #calculate U at given r\n",
    "    Us.append(Ui) # add Ui to a growing list of U(r) values\n",
    "    incrmnt = incrmnt + 0.1\n",
    "\n",
    "fig = plt.figure(fig.size=(4,4) )"
   ]
  },
  {
   "cell_type": "code",
   "execution_count": 2,
   "metadata": {},
   "outputs": [
    {
     "ename": "TypeError",
     "evalue": "'float' object cannot be interpreted as an integer",
     "output_type": "error",
     "traceback": [
      "\u001b[0;31m---------------------------------------------------------------------------\u001b[0m",
      "\u001b[0;31mTypeError\u001b[0m                                 Traceback (most recent call last)",
      "\u001b[1;32m/Users/mssedesktop/calculate_LJ.py\u001b[0m in \u001b[0;36mline 13\n\u001b[1;32m     <a href='file:///Users/mssedesktop/calculate_LJ.py?line=9'>10</a>\u001b[0m iterations \u001b[39m=\u001b[39m (\u001b[39m5\u001b[39m \u001b[39m-\u001b[39m \u001b[39m0.1\u001b[39m)\u001b[39m/\u001b[39mincrmnt\n\u001b[1;32m     <a href='file:///Users/mssedesktop/calculate_LJ.py?line=10'>11</a>\u001b[0m Us \u001b[39m=\u001b[39m []\n\u001b[0;32m---> <a href='file:///Users/mssedesktop/calculate_LJ.py?line=12'>13</a>\u001b[0m \u001b[39mfor\u001b[39;00m i \u001b[39min\u001b[39;00m \u001b[39mrange\u001b[39;49m(iterations):\n\u001b[1;32m     <a href='file:///Users/mssedesktop/calculate_LJ.py?line=13'>14</a>\u001b[0m     rs\u001b[39m.\u001b[39mappend(incrmnt) \u001b[39m#add i = ri to growing list of r values\u001b[39;00m\n\u001b[1;32m     <a href='file:///Users/mssedesktop/calculate_LJ.py?line=14'>15</a>\u001b[0m     Ui \u001b[39m=\u001b[39m calculate_LJ(i) \u001b[39m#calculate U at given r\u001b[39;00m\n",
      "\u001b[0;31mTypeError\u001b[0m: 'float' object cannot be interpreted as an integer"
     ]
    }
   ],
   "source": [
    "#this function runs the Lennard-Jones equation on inputted values\n",
    "\n",
    "def calculate_LJ(r):\n",
    "    rij_6 = r ** 6\n",
    "    rij_12 = rij_6 ** 2\n",
    "    U = 4 * (rij_12 - rij_6)\n",
    "    return(U)\n",
    "\n",
    "incrmnt = 0.1\n",
    "iterations = (5 - 0.1)/incrmnt\n",
    "Us = []\n",
    "\n",
    "for i in range(iterations):\n",
    "    rs.append(incrmnt) #add i = ri to growing list of r values\n",
    "    Ui = calculate_LJ(i) #calculate U at given r\n",
    "    Us.append(Ui) # add Ui to a growing list of U(r) values\n",
    "    incrmnt = incrmnt + 0.1\n",
    "\n",
    "print(rs)\n",
    "print(Us)\n",
    "#fig = plt.figure(fig.size==(4,4) )"
   ]
  },
  {
   "cell_type": "code",
   "execution_count": 3,
   "metadata": {},
   "outputs": [
    {
     "ename": "NameError",
     "evalue": "name 'rs' is not defined",
     "output_type": "error",
     "traceback": [
      "\u001b[0;31m---------------------------------------------------------------------------\u001b[0m",
      "\u001b[0;31mNameError\u001b[0m                                 Traceback (most recent call last)",
      "\u001b[1;32m/Users/mssedesktop/calculate_LJ.py\u001b[0m in \u001b[0;36mline 14\n\u001b[1;32m     <a href='file:///Users/mssedesktop/calculate_LJ.py?line=10'>11</a>\u001b[0m Us \u001b[39m=\u001b[39m []\n\u001b[1;32m     <a href='file:///Users/mssedesktop/calculate_LJ.py?line=12'>13</a>\u001b[0m \u001b[39mfor\u001b[39;00m i \u001b[39min\u001b[39;00m \u001b[39mrange\u001b[39m(iterations):\n\u001b[0;32m---> <a href='file:///Users/mssedesktop/calculate_LJ.py?line=13'>14</a>\u001b[0m     rs\u001b[39m.\u001b[39mappend(incrmnt) \u001b[39m#add i = ri to growing list of r values\u001b[39;00m\n\u001b[1;32m     <a href='file:///Users/mssedesktop/calculate_LJ.py?line=14'>15</a>\u001b[0m     Ui \u001b[39m=\u001b[39m calculate_LJ(i) \u001b[39m#calculate U at given r\u001b[39;00m\n\u001b[1;32m     <a href='file:///Users/mssedesktop/calculate_LJ.py?line=15'>16</a>\u001b[0m     Us\u001b[39m.\u001b[39mappend(Ui) \u001b[39m# add Ui to a growing list of U(r) values\u001b[39;00m\n",
      "\u001b[0;31mNameError\u001b[0m: name 'rs' is not defined"
     ]
    }
   ],
   "source": [
    "#this function runs the Lennard-Jones equation on inputted values\n",
    "\n",
    "def calculate_LJ(r):\n",
    "    rij_6 = r ** 6\n",
    "    rij_12 = rij_6 ** 2\n",
    "    U = 4 * (rij_12 - rij_6)\n",
    "    return(U)\n",
    "\n",
    "incrmnt = 0.1\n",
    "iterations = int((5 - 0.1)/incrmnt)\n",
    "Us = []\n",
    "\n",
    "for i in range(iterations):\n",
    "    rs.append(incrmnt) #add i = ri to growing list of r values\n",
    "    Ui = calculate_LJ(i) #calculate U at given r\n",
    "    Us.append(Ui) # add Ui to a growing list of U(r) values\n",
    "    incrmnt = incrmnt + 0.1\n",
    "\n",
    "print(rs)\n",
    "print(Us)\n",
    "#fig = plt.figure(fig.size==(4,4) )"
   ]
  },
  {
   "cell_type": "code",
   "execution_count": 4,
   "metadata": {},
   "outputs": [
    {
     "name": "stdout",
     "output_type": "stream",
     "text": [
      "[0.1, 0.2, 0.30000000000000004, 0.4, 0.5, 0.6, 0.7, 0.7999999999999999, 0.8999999999999999, 0.9999999999999999, 1.0999999999999999, 1.2, 1.3, 1.4000000000000001, 1.5000000000000002, 1.6000000000000003, 1.7000000000000004, 1.8000000000000005, 1.9000000000000006, 2.0000000000000004, 2.1000000000000005, 2.2000000000000006, 2.3000000000000007, 2.400000000000001, 2.500000000000001, 2.600000000000001, 2.700000000000001, 2.800000000000001, 2.9000000000000012, 3.0000000000000013, 3.1000000000000014, 3.2000000000000015, 3.3000000000000016, 3.4000000000000017, 3.5000000000000018, 3.600000000000002, 3.700000000000002, 3.800000000000002, 3.900000000000002, 4.000000000000002, 4.100000000000001, 4.200000000000001, 4.300000000000001, 4.4, 4.5, 4.6, 4.699999999999999, 4.799999999999999, 4.899999999999999]\n",
      "[0, 0, 16128, 2122848, 67092480, 976500000, 8706942720, 55364678208, 274876858368, 1129716020160, 3999996000000, 12553706420640, 35664389849088, 93192321182688, 226775619383040, 518985306000000, 1125899839733760, 2330488852368768, 4627325389655808, 8853259488081120, 16383999744000000, 29423309702482080, 51420010070677248, 87658497135937728, 146081388979814400, 238418578125000000, 381715825411065600, 600378539638314528, 928873058429288448, 1415259130442582880, 2125763997084000000, 3150651131604184320, 4611686014132420608, 6671558054646067968, 9545682728593186560, 13516882024873500000, 18953525344579338240, 26331808013097235488, 36262951621936236288, 49526230608230725440, 67108863983616000000, 90253961182464327360, 120517877924602599168, 159838523163764853408, 210616363078085099520, 275810094186511500000, 359049206656323751680, 464765932392677451648, 598349372343428579328]\n"
     ]
    }
   ],
   "source": [
    "#this function runs the Lennard-Jones equation on inputted values\n",
    "\n",
    "def calculate_LJ(r):\n",
    "    rij_6 = r ** 6\n",
    "    rij_12 = rij_6 ** 2\n",
    "    U = 4 * (rij_12 - rij_6)\n",
    "    return(U)\n",
    "\n",
    "incrmnt = 0.1\n",
    "iterations = int((5 - 0.1)/incrmnt)\n",
    "rs = []\n",
    "Us = []\n",
    "\n",
    "for i in range(iterations):\n",
    "    rs.append(incrmnt) #add i = ri to growing list of r values\n",
    "    Ui = calculate_LJ(i) #calculate U at given r\n",
    "    Us.append(Ui) # add Ui to a growing list of U(r) values\n",
    "    incrmnt = incrmnt + 0.1\n",
    "\n",
    "print(rs)\n",
    "print(Us)\n",
    "#fig = plt.figure(fig.size==(4,4) )"
   ]
  },
  {
   "cell_type": "code",
   "execution_count": 5,
   "metadata": {},
   "outputs": [
    {
     "name": "stdout",
     "output_type": "stream",
     "text": [
      "[0.1, 0.2, 0.30000000000000004, 0.4, 0.5, 0.6, 0.7, 0.7999999999999999, 0.8999999999999999, 0.9999999999999999, 1.0999999999999999, 1.2, 1.3, 1.4000000000000001, 1.5000000000000002, 1.6000000000000003, 1.7000000000000004, 1.8000000000000005, 1.9000000000000006, 2.0000000000000004, 2.1000000000000005, 2.2000000000000006, 2.3000000000000007, 2.400000000000001, 2.500000000000001, 2.600000000000001, 2.700000000000001, 2.800000000000001, 2.9000000000000012, 3.0000000000000013, 3.1000000000000014, 3.2000000000000015, 3.3000000000000016, 3.4000000000000017, 3.5000000000000018, 3.600000000000002, 3.700000000000002, 3.800000000000002, 3.900000000000002, 4.000000000000002, 4.100000000000001, 4.200000000000001, 4.300000000000001, 4.4, 4.5, 4.6, 4.699999999999999, 4.799999999999999, 4.899999999999999]\n",
      "[0, 0, 16128, 2122848, 67092480, 976500000, 8706942720, 55364678208, 274876858368, 1129716020160, 3999996000000, 12553706420640, 35664389849088, 93192321182688, 226775619383040, 518985306000000, 1125899839733760, 2330488852368768, 4627325389655808, 8853259488081120, 16383999744000000, 29423309702482080, 51420010070677248, 87658497135937728, 146081388979814400, 238418578125000000, 381715825411065600, 600378539638314528, 928873058429288448, 1415259130442582880, 2125763997084000000, 3150651131604184320, 4611686014132420608, 6671558054646067968, 9545682728593186560, 13516882024873500000, 18953525344579338240, 26331808013097235488, 36262951621936236288, 49526230608230725440, 67108863983616000000, 90253961182464327360, 120517877924602599168, 159838523163764853408, 210616363078085099520, 275810094186511500000, 359049206656323751680, 464765932392677451648, 598349372343428579328]\n"
     ]
    }
   ],
   "source": [
    "#this function runs the Lennard-Jones equation on inputted values\n",
    "\n",
    "def calculate_LJ(r):\n",
    "    rij_6 = r ** 6\n",
    "    rij_12 = rij_6 ** 2\n",
    "    U = 4 * (rij_12 - rij_6)\n",
    "    return(U)\n",
    "\n",
    "incrmnt = 0.1\n",
    "iterations = round((5 - 0.1)/incrmnt)\n",
    "rs = []\n",
    "Us = []\n",
    "\n",
    "for i in range(iterations):\n",
    "    rs.append(incrmnt) #add i = ri to growing list of r values\n",
    "    Ui = calculate_LJ(i) #calculate U at given r\n",
    "    Us.append(Ui) # add Ui to a growing list of U(r) values\n",
    "    incrmnt = incrmnt + 0.1\n",
    "\n",
    "print(rs)\n",
    "print(Us)\n",
    "#fig = plt.figure(fig.size==(4,4) )"
   ]
  },
  {
   "cell_type": "code",
   "execution_count": 6,
   "metadata": {},
   "outputs": [
    {
     "name": "stdout",
     "output_type": "stream",
     "text": [
      "[0.1, 0.2, 0.30000000000000004, 0.4, 0.5, 0.6, 0.7, 0.7999999999999999, 0.8999999999999999, 0.9999999999999999, 1.0999999999999999, 1.2, 1.3, 1.4000000000000001, 1.5000000000000002, 1.6000000000000003, 1.7000000000000004, 1.8000000000000005, 1.9000000000000006, 2.0000000000000004, 2.1000000000000005, 2.2000000000000006, 2.3000000000000007, 2.400000000000001, 2.500000000000001, 2.600000000000001, 2.700000000000001, 2.800000000000001, 2.9000000000000012, 3.0000000000000013, 3.1000000000000014, 3.2000000000000015, 3.3000000000000016, 3.4000000000000017, 3.5000000000000018, 3.600000000000002, 3.700000000000002, 3.800000000000002, 3.900000000000002, 4.000000000000002, 4.100000000000001, 4.200000000000001, 4.300000000000001, 4.4, 4.5, 4.6, 4.699999999999999, 4.799999999999999, 4.899999999999999, 4.999999999999998]\n",
      "[0, 0, 16128, 2122848, 67092480, 976500000, 8706942720, 55364678208, 274876858368, 1129716020160, 3999996000000, 12553706420640, 35664389849088, 93192321182688, 226775619383040, 518985306000000, 1125899839733760, 2330488852368768, 4627325389655808, 8853259488081120, 16383999744000000, 29423309702482080, 51420010070677248, 87658497135937728, 146081388979814400, 238418578125000000, 381715825411065600, 600378539638314528, 928873058429288448, 1415259130442582880, 2125763997084000000, 3150651131604184320, 4611686014132420608, 6671558054646067968, 9545682728593186560, 13516882024873500000, 18953525344579338240, 26331808013097235488, 36262951621936236288, 49526230608230725440, 67108863983616000000, 90253961182464327360, 120517877924602599168, 159838523163764853408, 210616363078085099520, 275810094186511500000, 359049206656323751680, 464765932392677451648, 598349372343428579328, 766324925466900508800]\n"
     ]
    }
   ],
   "source": [
    "#this function runs the Lennard-Jones equation on inputted values\n",
    "\n",
    "def calculate_LJ(r):\n",
    "    rij_6 = r ** 6\n",
    "    rij_12 = rij_6 ** 2\n",
    "    U = 4 * (rij_12 - rij_6)\n",
    "    return(U)\n",
    "\n",
    "incrmnt = 0.1\n",
    "iterations = round(5/incrmnt)\n",
    "rs = []\n",
    "Us = []\n",
    "\n",
    "for i in range(iterations):\n",
    "    rs.append(incrmnt) #add i = ri to growing list of r values\n",
    "    Ui = calculate_LJ(i) #calculate U at given r\n",
    "    Us.append(Ui) # add Ui to a growing list of U(r) values\n",
    "    incrmnt = incrmnt + 0.1\n",
    "\n",
    "print(rs)\n",
    "print(Us)\n",
    "#fig = plt.figure(fig.size==(4,4) )"
   ]
  },
  {
   "cell_type": "code",
   "execution_count": 7,
   "metadata": {},
   "outputs": [
    {
     "ename": "NameError",
     "evalue": "name 'plt' is not defined",
     "output_type": "error",
     "traceback": [
      "\u001b[0;31m---------------------------------------------------------------------------\u001b[0m",
      "\u001b[0;31mNameError\u001b[0m                                 Traceback (most recent call last)",
      "\u001b[1;32m/Users/mssedesktop/calculate_LJ.py\u001b[0m in \u001b[0;36mline 14\n\u001b[1;32m     <a href='file:///Users/mssedesktop/calculate_LJ.py?line=10'>11</a>\u001b[0m rs \u001b[39m=\u001b[39m []\n\u001b[1;32m     <a href='file:///Users/mssedesktop/calculate_LJ.py?line=11'>12</a>\u001b[0m Us \u001b[39m=\u001b[39m []\n\u001b[0;32m---> <a href='file:///Users/mssedesktop/calculate_LJ.py?line=13'>14</a>\u001b[0m fig \u001b[39m=\u001b[39m plt\u001b[39m.\u001b[39mfigure(figsize\u001b[39m=\u001b[39m(\u001b[39m4\u001b[39m,\u001b[39m4\u001b[39m)) \u001b[39m#define figure size\u001b[39;00m\n\u001b[1;32m     <a href='file:///Users/mssedesktop/calculate_LJ.py?line=14'>15</a>\u001b[0m ax \u001b[39m=\u001b[39m fig\u001b[39m.\u001b[39madd_subplot(\u001b[39m111\u001b[39m) \u001b[39m#define axes\u001b[39;00m\n\u001b[1;32m     <a href='file:///Users/mssedesktop/calculate_LJ.py?line=15'>16</a>\u001b[0m fig\u001b[39m.\u001b[39mshow()\n",
      "\u001b[0;31mNameError\u001b[0m: name 'plt' is not defined"
     ]
    }
   ],
   "source": [
    "#this function runs the Lennard-Jones equation on inputted values\n",
    "\n",
    "def calculate_LJ(r):\n",
    "    rij_6 = r ** 6\n",
    "    rij_12 = rij_6 ** 2\n",
    "    U = 4 * (rij_12 - rij_6)\n",
    "    return(U)\n",
    "\n",
    "incrmnt = 0.1\n",
    "iterations = round(5/incrmnt)\n",
    "rs = []\n",
    "Us = []\n",
    "\n",
    "fig = plt.figure(figsize=(4,4)) #define figure size\n",
    "ax = fig.add_subplot(111) #define axes\n",
    "fig.show()\n",
    "\n",
    "for i in range(iterations):\n",
    "    rs.append(incrmnt) #add i = ri to growing list of r values\n",
    "    Ui = calculate_LJ(i) #calculate U at given r\n",
    "    Us.append(Ui) # add Ui to a growing list of U(r) values\n",
    "    incrmnt = incrmnt + 0.1 # r = r + 0.1 for next iteration of for loop\n",
    "    ax.plot(rs , Us , 'ob') #add (x,y) coordinate generated from iteration to plot"
   ]
  },
  {
   "cell_type": "code",
   "execution_count": 8,
   "metadata": {},
   "outputs": [
    {
     "name": "stderr",
     "output_type": "stream",
     "text": [
      "<ipython-input-8-46dba1ef75e2>:18: UserWarning: Matplotlib is currently using module://matplotlib_inline.backend_inline, which is a non-GUI backend, so cannot show the figure.\n",
      "  fig.show()\n"
     ]
    },
    {
     "data": {
      "image/png": "[encoded data removed]",
      "text/plain": [
       "<Figure size 400x400 with 1 Axes>"
      ]
     },
     "metadata": {},
     "output_type": "display_data"
    }
   ],
   "source": [
    "#this function runs the Lennard-Jones equation on inputted values\n",
    "\n",
    "import matplotlib.pyplot as plt\n",
    "\n",
    "def calculate_LJ(r):\n",
    "    rij_6 = r ** 6\n",
    "    rij_12 = rij_6 ** 2\n",
    "    U = 4 * (rij_12 - rij_6)\n",
    "    return(U)\n",
    "\n",
    "incrmnt = 0.1\n",
    "iterations = round(5/incrmnt)\n",
    "rs = []\n",
    "Us = []\n",
    "\n",
    "fig = plt.figure(figsize=(4,4)) #define figure size\n",
    "ax = fig.add_subplot(111) #define axes\n",
    "fig.show()\n",
    "\n",
    "for i in range(iterations):\n",
    "    rs.append(incrmnt) #add i = ri to growing list of r values\n",
    "    Ui = calculate_LJ(i) #calculate U at given r\n",
    "    Us.append(Ui) # add Ui to a growing list of U(r) values\n",
    "    incrmnt = incrmnt + 0.1 # r = r + 0.1 for next iteration of for loop\n",
    "    ax.plot(rs , Us , 'ob') #add (x,y) coordinate generated from iteration to plot"
   ]
  },
  {
   "cell_type": "code",
   "execution_count": 9,
   "metadata": {},
   "outputs": [
    {
     "name": "stderr",
     "output_type": "stream",
     "text": [
      "<ipython-input-9-0074c18089bd>:18: UserWarning: Matplotlib is currently using module://matplotlib_inline.backend_inline, which is a non-GUI backend, so cannot show the figure.\n",
      "  fig.show()\n"
     ]
    },
    {
     "data": {
      "text/plain": [
       "<Figure size 400x400 with 0 Axes>"
      ]
     },
     "metadata": {},
     "output_type": "display_data"
    }
   ],
   "source": [
    "#this function runs the Lennard-Jones equation on inputted values\n",
    "\n",
    "import matplotlib.pyplot as plt\n",
    "\n",
    "def calculate_LJ(r):\n",
    "    rij_6 = r ** 6\n",
    "    rij_12 = rij_6 ** 2\n",
    "    U = 4 * (rij_12 - rij_6)\n",
    "    return(U)\n",
    "\n",
    "incrmnt = 0.1\n",
    "iterations = round(5/incrmnt)\n",
    "rs = []\n",
    "Us = []\n",
    "\n",
    "fig = plt.figure(figsize=(4,4)) #define figure size\n",
    "#ax = fig.add_subplot(111)\n",
    "fig.show()\n",
    "\n",
    "for i in range(iterations):\n",
    "    rs.append(incrmnt) #add i = ri to growing list of r values\n",
    "    Ui = calculate_LJ(i) #calculate U at given r\n",
    "    Us.append(Ui) # add Ui to a growing list of U(r) values\n",
    "    incrmnt = incrmnt + 0.1 # r = r + 0.1 for next iteration of for loop\n",
    "    ax.plot(rs , Us , 'ob') #add (x,y) coordinate generated from iteration to plot"
   ]
  },
  {
   "cell_type": "code",
   "execution_count": 10,
   "metadata": {},
   "outputs": [
    {
     "name": "stderr",
     "output_type": "stream",
     "text": [
      "<ipython-input-10-2b3d7d984807>:18: UserWarning: Matplotlib is currently using module://matplotlib_inline.backend_inline, which is a non-GUI backend, so cannot show the figure.\n",
      "  fig.show()\n"
     ]
    },
    {
     "data": {
      "image/png": "[encoded data removed]",
      "text/plain": [
       "<Figure size 400x400 with 1 Axes>"
      ]
     },
     "metadata": {},
     "output_type": "display_data"
    }
   ],
   "source": [
    "#this function runs the Lennard-Jones equation on inputted values\n",
    "\n",
    "import matplotlib.pyplot as plt\n",
    "\n",
    "def calculate_LJ(r):\n",
    "    rij_6 = r ** 6\n",
    "    rij_12 = rij_6 ** 2\n",
    "    U = 4 * (rij_12 - rij_6)\n",
    "    return(U)\n",
    "\n",
    "incrmnt = 0.1\n",
    "iterations = round(5/incrmnt)\n",
    "rs = []\n",
    "Us = []\n",
    "\n",
    "fig = plt.figure(figsize=(4,4)) #define figure size\n",
    "ax = fig.add_subplot(111) #assign axes\n",
    "fig.show()\n",
    "\n",
    "for i in range(iterations):\n",
    "    rs.append(incrmnt) #add i = ri to growing list of r values\n",
    "    Ui = calculate_LJ(i) #calculate U at given r\n",
    "    Us.append(Ui) # add Ui to a growing list of U(r) values\n",
    "    incrmnt = incrmnt + 0.1 # r = r + 0.1 for next iteration of for loop\n",
    "    ax.plot(rs , Us , 'ob') #add (x,y) coordinate generated from iteration to plot"
   ]
  }
 ],
 "metadata": {
  "kernelspec": {
   "display_name": "msse-python",
   "language": "python",
   "name": "python3"
  },
  "language_info": {
   "name": "python",
   "version": "3.11.4"
  }
 },
 "nbformat": 4,
 "nbformat_minor": 2
}
