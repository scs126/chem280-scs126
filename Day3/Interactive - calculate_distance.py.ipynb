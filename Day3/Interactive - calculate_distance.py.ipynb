{
 "cells": [
  {
   "cell_type": "markdown",
   "metadata": {
    "isInteractiveWindowMessageCell": true
   },
   "source": [
    "Connected to msse-python (Python 3.11.4)"
   ]
  },
  {
   "cell_type": "code",
   "execution_count": 1,
   "metadata": {},
   "outputs": [
    {
     "ename": "TypeError",
     "evalue": "'tuple' object is not callable",
     "output_type": "error",
     "traceback": [
      "\u001b[0;31m---------------------------------------------------------------------------\u001b[0m",
      "\u001b[0;31mTypeError\u001b[0m                                 Traceback (most recent call last)",
      "\u001b[1;32m/Users/mssedesktop/calculate_distance.py\u001b[0m in \u001b[0;36mline 28\n\u001b[1;32m     <a href='file:///Users/mssedesktop/calculate_distance.py?line=25'>26</a>\u001b[0m coordinate1 \u001b[39m=\u001b[39m (\u001b[39m0\u001b[39m , \u001b[39m0\u001b[39m , \u001b[39m0\u001b[39m) \u001b[39m#define first position\u001b[39;00m\n\u001b[1;32m     <a href='file:///Users/mssedesktop/calculate_distance.py?line=26'>27</a>\u001b[0m coordinate2 \u001b[39m=\u001b[39m (\u001b[39m1\u001b[39m , \u001b[39m1\u001b[39m , \u001b[39m1\u001b[39m) \u001b[39m#define second position\u001b[39;00m\n\u001b[0;32m---> <a href='file:///Users/mssedesktop/calculate_distance.py?line=27'>28</a>\u001b[0m dist \u001b[39m=\u001b[39m calculate_distance(coordinate1, coordinate2) \u001b[39m#runs points through calculate_distance function\u001b[39;00m\n\u001b[1;32m     <a href='file:///Users/mssedesktop/calculate_distance.py?line=28'>29</a>\u001b[0m \u001b[39mprint\u001b[39m(dist)\n",
      "\u001b[1;32m/Users/mssedesktop/calculate_distance.py\u001b[0m in \u001b[0;36mline 16\u001b[0m, in \u001b[0;36mcalculate_distance\u001b[0;34m(coord1, coord2)\n\u001b[1;32m      <a href='file:///Users/mssedesktop/calculate_distance.py?line=1'>2</a>\u001b[0m \u001b[39mdef\u001b[39;00m \u001b[39mcalculate_distance\u001b[39m(coord1, coord2):\n\u001b[1;32m      <a href='file:///Users/mssedesktop/calculate_distance.py?line=2'>3</a>\u001b[0m \u001b[39m   \u001b[39m\u001b[39m\"\"\"\u001b[39;00m\n\u001b[1;32m      <a href='file:///Users/mssedesktop/calculate_distance.py?line=3'>4</a>\u001b[0m \u001b[39m   Calculate the distance between two 3D coordinates.\u001b[39;00m\n\u001b[1;32m      <a href='file:///Users/mssedesktop/calculate_distance.py?line=4'>5</a>\u001b[0m \u001b[39m  \u001b[39;00m\n\u001b[0;32m   (...)\u001b[0m\n\u001b[1;32m     <a href='file:///Users/mssedesktop/calculate_distance.py?line=13'>14</a>\u001b[0m \u001b[39m       The distance between the two points.\u001b[39;00m\n\u001b[1;32m     <a href='file:///Users/mssedesktop/calculate_distance.py?line=14'>15</a>\u001b[0m \u001b[39m   \"\"\"\u001b[39;00m\n\u001b[0;32m---> <a href='file:///Users/mssedesktop/calculate_distance.py?line=15'>16</a>\u001b[0m    x1 \u001b[39m=\u001b[39m coordinate1(\u001b[39m0\u001b[39;49m) \u001b[39m#pull out coordinate 1 x coordinate\u001b[39;00m\n\u001b[1;32m     <a href='file:///Users/mssedesktop/calculate_distance.py?line=16'>17</a>\u001b[0m    y1 \u001b[39m=\u001b[39m coordinate1(\u001b[39m1\u001b[39m) \u001b[39m#pull out coordinate 1 y coordinate\u001b[39;00m\n\u001b[1;32m     <a href='file:///Users/mssedesktop/calculate_distance.py?line=17'>18</a>\u001b[0m    z1 \u001b[39m=\u001b[39m coordinate1(\u001b[39m2\u001b[39m) \u001b[39m#pull out coordinate 1 z coordinate\u001b[39;00m\n",
      "\u001b[0;31mTypeError\u001b[0m: 'tuple' object is not callable"
     ]
    }
   ],
   "source": [
    "#this code calculates the linear distance between two points in the cartesian space\n",
    "def calculate_distance(coord1, coord2):\n",
    "   \"\"\"\n",
    "   Calculate the distance between two 3D coordinates.\n",
    "  \n",
    "   Parameters\n",
    "   ----------\n",
    "   coord1, coord2: list\n",
    "       The atomic coordinates\n",
    "   \n",
    "   Returns\n",
    "   -------\n",
    "   distance: float\n",
    "       The distance between the two points.\n",
    "   \"\"\"\n",
    "   x1 = coordinate1(0) #pull out coordinate 1 x coordinate\n",
    "   y1 = coordinate1(1) #pull out coordinate 1 y coordinate\n",
    "   z1 = coordinate1(2) #pull out coordinate 1 z coordinate\n",
    "   x2 = coordinate2(0) #pull out coordinate 2 x coordinate\n",
    "   y2 = coordinate2(1) #pull out coordinate 2 y coordinate\n",
    "   z2 = coordinate2(2) #pull out coordinate 2 z coordinate\n",
    "   distance = ((x2 - x1) ** 2) + ((y2 - y1) ** 2) + ((z2 - z1) ** 2) #calculates linear distance between the two points\n",
    "   return(distance)\n",
    "\n",
    "\n",
    "coordinate1 = (0 , 0 , 0) #define first position\n",
    "coordinate2 = (1 , 1 , 1) #define second position\n",
    "dist = calculate_distance(coordinate1, coordinate2) #runs points through calculate_distance function\n",
    "print(dist)"
   ]
  },
  {
   "cell_type": "code",
   "execution_count": 2,
   "metadata": {},
   "outputs": [
    {
     "ename": "TypeError",
     "evalue": "'list' object is not callable",
     "output_type": "error",
     "traceback": [
      "\u001b[0;31m---------------------------------------------------------------------------\u001b[0m",
      "\u001b[0;31mTypeError\u001b[0m                                 Traceback (most recent call last)",
      "\u001b[1;32m/Users/mssedesktop/calculate_distance.py\u001b[0m in \u001b[0;36mline 28\n\u001b[1;32m     <a href='file:///Users/mssedesktop/calculate_distance.py?line=25'>26</a>\u001b[0m coordinate1 \u001b[39m=\u001b[39m [\u001b[39m0\u001b[39m , \u001b[39m0\u001b[39m , \u001b[39m0\u001b[39m] \u001b[39m#define first position\u001b[39;00m\n\u001b[1;32m     <a href='file:///Users/mssedesktop/calculate_distance.py?line=26'>27</a>\u001b[0m coordinate2 \u001b[39m=\u001b[39m [\u001b[39m1\u001b[39m , \u001b[39m1\u001b[39m , \u001b[39m1\u001b[39m] \u001b[39m#define second position\u001b[39;00m\n\u001b[0;32m---> <a href='file:///Users/mssedesktop/calculate_distance.py?line=27'>28</a>\u001b[0m dist \u001b[39m=\u001b[39m calculate_distance(coordinate1, coordinate2) \u001b[39m#runs points through calculate_distance function\u001b[39;00m\n\u001b[1;32m     <a href='file:///Users/mssedesktop/calculate_distance.py?line=28'>29</a>\u001b[0m \u001b[39mprint\u001b[39m(dist)\n",
      "\u001b[1;32m/Users/mssedesktop/calculate_distance.py\u001b[0m in \u001b[0;36mline 16\u001b[0m, in \u001b[0;36mcalculate_distance\u001b[0;34m(coord1, coord2)\n\u001b[1;32m      <a href='file:///Users/mssedesktop/calculate_distance.py?line=1'>2</a>\u001b[0m \u001b[39mdef\u001b[39;00m \u001b[39mcalculate_distance\u001b[39m(coord1, coord2):\n\u001b[1;32m      <a href='file:///Users/mssedesktop/calculate_distance.py?line=2'>3</a>\u001b[0m \u001b[39m   \u001b[39m\u001b[39m\"\"\"\u001b[39;00m\n\u001b[1;32m      <a href='file:///Users/mssedesktop/calculate_distance.py?line=3'>4</a>\u001b[0m \u001b[39m   Calculate the distance between two 3D coordinates.\u001b[39;00m\n\u001b[1;32m      <a href='file:///Users/mssedesktop/calculate_distance.py?line=4'>5</a>\u001b[0m \u001b[39m  \u001b[39;00m\n\u001b[0;32m   (...)\u001b[0m\n\u001b[1;32m     <a href='file:///Users/mssedesktop/calculate_distance.py?line=13'>14</a>\u001b[0m \u001b[39m       The distance between the two points.\u001b[39;00m\n\u001b[1;32m     <a href='file:///Users/mssedesktop/calculate_distance.py?line=14'>15</a>\u001b[0m \u001b[39m   \"\"\"\u001b[39;00m\n\u001b[0;32m---> <a href='file:///Users/mssedesktop/calculate_distance.py?line=15'>16</a>\u001b[0m    x1 \u001b[39m=\u001b[39m coordinate1(\u001b[39m0\u001b[39;49m) \u001b[39m#pull out coordinate 1 x coordinate\u001b[39;00m\n\u001b[1;32m     <a href='file:///Users/mssedesktop/calculate_distance.py?line=16'>17</a>\u001b[0m    y1 \u001b[39m=\u001b[39m coordinate1(\u001b[39m1\u001b[39m) \u001b[39m#pull out coordinate 1 y coordinate\u001b[39;00m\n\u001b[1;32m     <a href='file:///Users/mssedesktop/calculate_distance.py?line=17'>18</a>\u001b[0m    z1 \u001b[39m=\u001b[39m coordinate1(\u001b[39m2\u001b[39m) \u001b[39m#pull out coordinate 1 z coordinate\u001b[39;00m\n",
      "\u001b[0;31mTypeError\u001b[0m: 'list' object is not callable"
     ]
    }
   ],
   "source": [
    "#this code calculates the linear distance between two points in the cartesian space\n",
    "def calculate_distance(coord1, coord2):\n",
    "   \"\"\"\n",
    "   Calculate the distance between two 3D coordinates.\n",
    "  \n",
    "   Parameters\n",
    "   ----------\n",
    "   coord1, coord2: list\n",
    "       The atomic coordinates\n",
    "   \n",
    "   Returns\n",
    "   -------\n",
    "   distance: float\n",
    "       The distance between the two points.\n",
    "   \"\"\"\n",
    "   x1 = coordinate1(0) #pull out coordinate 1 x coordinate\n",
    "   y1 = coordinate1(1) #pull out coordinate 1 y coordinate\n",
    "   z1 = coordinate1(2) #pull out coordinate 1 z coordinate\n",
    "   x2 = coordinate2(0) #pull out coordinate 2 x coordinate\n",
    "   y2 = coordinate2(1) #pull out coordinate 2 y coordinate\n",
    "   z2 = coordinate2(2) #pull out coordinate 2 z coordinate\n",
    "   distance = ((x2 - x1) ** 2) + ((y2 - y1) ** 2) + ((z2 - z1) ** 2) #calculates linear distance between the two points\n",
    "   return(distance)\n",
    "\n",
    "\n",
    "coordinate1 = [0 , 0 , 0] #define first position\n",
    "coordinate2 = [1 , 1 , 1] #define second position\n",
    "dist = calculate_distance(coordinate1, coordinate2) #runs points through calculate_distance function\n",
    "print(dist)"
   ]
  },
  {
   "cell_type": "code",
   "execution_count": 3,
   "metadata": {},
   "outputs": [
    {
     "ename": "TypeError",
     "evalue": "'set' object is not callable",
     "output_type": "error",
     "traceback": [
      "\u001b[0;31m---------------------------------------------------------------------------\u001b[0m",
      "\u001b[0;31mTypeError\u001b[0m                                 Traceback (most recent call last)",
      "\u001b[1;32m/Users/mssedesktop/calculate_distance.py\u001b[0m in \u001b[0;36mline 28\n\u001b[1;32m     <a href='file:///Users/mssedesktop/calculate_distance.py?line=25'>26</a>\u001b[0m coordinate1 \u001b[39m=\u001b[39m {\u001b[39m0\u001b[39m , \u001b[39m0\u001b[39m , \u001b[39m0\u001b[39m} \u001b[39m#define first position\u001b[39;00m\n\u001b[1;32m     <a href='file:///Users/mssedesktop/calculate_distance.py?line=26'>27</a>\u001b[0m coordinate2 \u001b[39m=\u001b[39m {\u001b[39m1\u001b[39m , \u001b[39m1\u001b[39m , \u001b[39m1\u001b[39m} \u001b[39m#define second position\u001b[39;00m\n\u001b[0;32m---> <a href='file:///Users/mssedesktop/calculate_distance.py?line=27'>28</a>\u001b[0m dist \u001b[39m=\u001b[39m calculate_distance(coordinate1, coordinate2) \u001b[39m#runs points through calculate_distance function\u001b[39;00m\n\u001b[1;32m     <a href='file:///Users/mssedesktop/calculate_distance.py?line=28'>29</a>\u001b[0m \u001b[39mprint\u001b[39m(dist)\n",
      "\u001b[1;32m/Users/mssedesktop/calculate_distance.py\u001b[0m in \u001b[0;36mline 16\u001b[0m, in \u001b[0;36mcalculate_distance\u001b[0;34m(coord1, coord2)\n\u001b[1;32m      <a href='file:///Users/mssedesktop/calculate_distance.py?line=1'>2</a>\u001b[0m \u001b[39mdef\u001b[39;00m \u001b[39mcalculate_distance\u001b[39m(coord1, coord2):\n\u001b[1;32m      <a href='file:///Users/mssedesktop/calculate_distance.py?line=2'>3</a>\u001b[0m \u001b[39m   \u001b[39m\u001b[39m\"\"\"\u001b[39;00m\n\u001b[1;32m      <a href='file:///Users/mssedesktop/calculate_distance.py?line=3'>4</a>\u001b[0m \u001b[39m   Calculate the distance between two 3D coordinates.\u001b[39;00m\n\u001b[1;32m      <a href='file:///Users/mssedesktop/calculate_distance.py?line=4'>5</a>\u001b[0m \u001b[39m  \u001b[39;00m\n\u001b[0;32m   (...)\u001b[0m\n\u001b[1;32m     <a href='file:///Users/mssedesktop/calculate_distance.py?line=13'>14</a>\u001b[0m \u001b[39m       The distance between the two points.\u001b[39;00m\n\u001b[1;32m     <a href='file:///Users/mssedesktop/calculate_distance.py?line=14'>15</a>\u001b[0m \u001b[39m   \"\"\"\u001b[39;00m\n\u001b[0;32m---> <a href='file:///Users/mssedesktop/calculate_distance.py?line=15'>16</a>\u001b[0m    x1 \u001b[39m=\u001b[39m coordinate1(\u001b[39m0\u001b[39;49m) \u001b[39m#pull out coordinate 1 x coordinate\u001b[39;00m\n\u001b[1;32m     <a href='file:///Users/mssedesktop/calculate_distance.py?line=16'>17</a>\u001b[0m    y1 \u001b[39m=\u001b[39m coordinate1(\u001b[39m1\u001b[39m) \u001b[39m#pull out coordinate 1 y coordinate\u001b[39;00m\n\u001b[1;32m     <a href='file:///Users/mssedesktop/calculate_distance.py?line=17'>18</a>\u001b[0m    z1 \u001b[39m=\u001b[39m coordinate1(\u001b[39m2\u001b[39m) \u001b[39m#pull out coordinate 1 z coordinate\u001b[39;00m\n",
      "\u001b[0;31mTypeError\u001b[0m: 'set' object is not callable"
     ]
    }
   ],
   "source": [
    "#this code calculates the linear distance between two points in the cartesian space\n",
    "def calculate_distance(coord1, coord2):\n",
    "   \"\"\"\n",
    "   Calculate the distance between two 3D coordinates.\n",
    "  \n",
    "   Parameters\n",
    "   ----------\n",
    "   coord1, coord2: list\n",
    "       The atomic coordinates\n",
    "   \n",
    "   Returns\n",
    "   -------\n",
    "   distance: float\n",
    "       The distance between the two points.\n",
    "   \"\"\"\n",
    "   x1 = coordinate1(0) #pull out coordinate 1 x coordinate\n",
    "   y1 = coordinate1(1) #pull out coordinate 1 y coordinate\n",
    "   z1 = coordinate1(2) #pull out coordinate 1 z coordinate\n",
    "   x2 = coordinate2(0) #pull out coordinate 2 x coordinate\n",
    "   y2 = coordinate2(1) #pull out coordinate 2 y coordinate\n",
    "   z2 = coordinate2(2) #pull out coordinate 2 z coordinate\n",
    "   distance = ((x2 - x1) ** 2) + ((y2 - y1) ** 2) + ((z2 - z1) ** 2) #calculates linear distance between the two points\n",
    "   return(distance)\n",
    "\n",
    "\n",
    "coordinate1 = {0 , 0 , 0} #define first position\n",
    "coordinate2 = {1 , 1 , 1} #define second position\n",
    "dist = calculate_distance(coordinate1, coordinate2) #runs points through calculate_distance function\n",
    "print(dist)"
   ]
  },
  {
   "cell_type": "code",
   "execution_count": 4,
   "metadata": {},
   "outputs": [
    {
     "ename": "TypeError",
     "evalue": "'tuple' object is not callable",
     "output_type": "error",
     "traceback": [
      "\u001b[0;31m---------------------------------------------------------------------------\u001b[0m",
      "\u001b[0;31mTypeError\u001b[0m                                 Traceback (most recent call last)",
      "\u001b[1;32m/Users/mssedesktop/calculate_distance.py\u001b[0m in \u001b[0;36mline 28\n\u001b[1;32m     <a href='file:///Users/mssedesktop/calculate_distance.py?line=25'>26</a>\u001b[0m coordinate1 \u001b[39m=\u001b[39m (\u001b[39m0\u001b[39m , \u001b[39m0\u001b[39m , \u001b[39m0\u001b[39m) \u001b[39m#define first position\u001b[39;00m\n\u001b[1;32m     <a href='file:///Users/mssedesktop/calculate_distance.py?line=26'>27</a>\u001b[0m coordinate2 \u001b[39m=\u001b[39m (\u001b[39m1\u001b[39m , \u001b[39m1\u001b[39m , \u001b[39m1\u001b[39m) \u001b[39m#define second position\u001b[39;00m\n\u001b[0;32m---> <a href='file:///Users/mssedesktop/calculate_distance.py?line=27'>28</a>\u001b[0m dist \u001b[39m=\u001b[39m calculate_distance(coordinate1, coordinate2) \u001b[39m#runs points through calculate_distance function\u001b[39;00m\n\u001b[1;32m     <a href='file:///Users/mssedesktop/calculate_distance.py?line=28'>29</a>\u001b[0m \u001b[39mprint\u001b[39m(dist)\n",
      "\u001b[1;32m/Users/mssedesktop/calculate_distance.py\u001b[0m in \u001b[0;36mline 16\u001b[0m, in \u001b[0;36mcalculate_distance\u001b[0;34m(coord1, coord2)\n\u001b[1;32m      <a href='file:///Users/mssedesktop/calculate_distance.py?line=1'>2</a>\u001b[0m \u001b[39mdef\u001b[39;00m \u001b[39mcalculate_distance\u001b[39m(coord1, coord2):\n\u001b[1;32m      <a href='file:///Users/mssedesktop/calculate_distance.py?line=2'>3</a>\u001b[0m \u001b[39m   \u001b[39m\u001b[39m\"\"\"\u001b[39;00m\n\u001b[1;32m      <a href='file:///Users/mssedesktop/calculate_distance.py?line=3'>4</a>\u001b[0m \u001b[39m   Calculate the distance between two 3D coordinates.\u001b[39;00m\n\u001b[1;32m      <a href='file:///Users/mssedesktop/calculate_distance.py?line=4'>5</a>\u001b[0m \u001b[39m  \u001b[39;00m\n\u001b[0;32m   (...)\u001b[0m\n\u001b[1;32m     <a href='file:///Users/mssedesktop/calculate_distance.py?line=13'>14</a>\u001b[0m \u001b[39m       The distance between the two points.\u001b[39;00m\n\u001b[1;32m     <a href='file:///Users/mssedesktop/calculate_distance.py?line=14'>15</a>\u001b[0m \u001b[39m   \"\"\"\u001b[39;00m\n\u001b[0;32m---> <a href='file:///Users/mssedesktop/calculate_distance.py?line=15'>16</a>\u001b[0m    x1 \u001b[39m=\u001b[39m coordinate1(\u001b[39m0\u001b[39;49m) \u001b[39m#pull out coordinate 1 x coordinate\u001b[39;00m\n\u001b[1;32m     <a href='file:///Users/mssedesktop/calculate_distance.py?line=16'>17</a>\u001b[0m    y1 \u001b[39m=\u001b[39m coordinate1(\u001b[39m1\u001b[39m) \u001b[39m#pull out coordinate 1 y coordinate\u001b[39;00m\n\u001b[1;32m     <a href='file:///Users/mssedesktop/calculate_distance.py?line=17'>18</a>\u001b[0m    z1 \u001b[39m=\u001b[39m coordinate1(\u001b[39m2\u001b[39m) \u001b[39m#pull out coordinate 1 z coordinate\u001b[39;00m\n",
      "\u001b[0;31mTypeError\u001b[0m: 'tuple' object is not callable"
     ]
    }
   ],
   "source": [
    "#this code calculates the linear distance between two points in the cartesian space\n",
    "def calculate_distance(coord1, coord2):\n",
    "   \"\"\"\n",
    "   Calculate the distance between two 3D coordinates.\n",
    "  \n",
    "   Parameters\n",
    "   ----------\n",
    "   coord1, coord2: list\n",
    "       The atomic coordinates\n",
    "   \n",
    "   Returns\n",
    "   -------\n",
    "   distance: float\n",
    "       The distance between the two points.\n",
    "   \"\"\"\n",
    "   x1 = coordinate1(0) #pull out coordinate 1 x coordinate\n",
    "   y1 = coordinate1(1) #pull out coordinate 1 y coordinate\n",
    "   z1 = coordinate1(2) #pull out coordinate 1 z coordinate\n",
    "   x2 = coordinate2(0) #pull out coordinate 2 x coordinate\n",
    "   y2 = coordinate2(1) #pull out coordinate 2 y coordinate\n",
    "   z2 = coordinate2(2) #pull out coordinate 2 z coordinate\n",
    "   distance = ((x2 - x1) ** 2) + ((y2 - y1) ** 2) + ((z2 - z1) ** 2) #calculates linear distance between the two points\n",
    "   return(distance)\n",
    "\n",
    "\n",
    "coordinate1 = (0 , 0 , 0) #define first position\n",
    "coordinate2 = (1 , 1 , 1) #define second position\n",
    "dist = calculate_distance(coordinate1, coordinate2) #runs points through calculate_distance function\n",
    "print(dist)"
   ]
  },
  {
   "cell_type": "code",
   "execution_count": 5,
   "metadata": {},
   "outputs": [
    {
     "name": "stdout",
     "output_type": "stream",
     "text": [
      "3\n"
     ]
    }
   ],
   "source": [
    "#this code calculates the linear distance between two points in the cartesian space\n",
    "def calculate_distance(coord1, coord2):\n",
    "   \"\"\"\n",
    "   Calculate the distance between two 3D coordinates.\n",
    "  \n",
    "   Parameters\n",
    "   ----------\n",
    "   coord1, coord2: list\n",
    "       The atomic coordinates\n",
    "   \n",
    "   Returns\n",
    "   -------\n",
    "   distance: float\n",
    "       The distance between the two points.\n",
    "   \"\"\"\n",
    "   x1 = coordinate1[0] #pull out coordinate 1 x coordinate\n",
    "   y1 = coordinate1[1] #pull out coordinate 1 y coordinate\n",
    "   z1 = coordinate1[2] #pull out coordinate 1 z coordinate\n",
    "   x2 = coordinate2[0] #pull out coordinate 2 x coordinate\n",
    "   y2 = coordinate2[1] #pull out coordinate 2 y coordinate\n",
    "   z2 = coordinate2[2] #pull out coordinate 2 z coordinate\n",
    "   distance = ((x2 - x1) ** 2) + ((y2 - y1) ** 2) + ((z2 - z1) ** 2) #calculates linear distance between the two points\n",
    "   return(distance)\n",
    "\n",
    "\n",
    "coordinate1 = (0 , 0 , 0) #define first position\n",
    "coordinate2 = (1 , 1 , 1) #define second position\n",
    "dist = calculate_distance(coordinate1, coordinate2) #runs points through calculate_distance function\n",
    "print(dist)"
   ]
  },
  {
   "cell_type": "code",
   "execution_count": 6,
   "metadata": {},
   "outputs": [
    {
     "name": "stdout",
     "output_type": "stream",
     "text": [
      "5\n"
     ]
    }
   ],
   "source": [
    "#this code calculates the linear distance between two points in the cartesian space\n",
    "def calculate_distance(coord1, coord2):\n",
    "   \"\"\"\n",
    "   Calculate the distance between two 3D coordinates.\n",
    "  \n",
    "   Parameters\n",
    "   ----------\n",
    "   coord1, coord2: list\n",
    "       The atomic coordinates\n",
    "   \n",
    "   Returns\n",
    "   -------\n",
    "   distance: float\n",
    "       The distance between the two points.\n",
    "   \"\"\"\n",
    "   x1 = coordinate1[0] #pull out coordinate 1 x coordinate\n",
    "   y1 = coordinate1[1] #pull out coordinate 1 y coordinate\n",
    "   z1 = coordinate1[2] #pull out coordinate 1 z coordinate\n",
    "   x2 = coordinate2[0] #pull out coordinate 2 x coordinate\n",
    "   y2 = coordinate2[1] #pull out coordinate 2 y coordinate\n",
    "   z2 = coordinate2[2] #pull out coordinate 2 z coordinate\n",
    "   distance = ((x2 - x1) ** 2) + ((y2 - y1) ** 2) + ((z2 - z1) ** 2) #calculates linear distance between the two points\n",
    "   return(distance)\n",
    "\n",
    "\n",
    "coordinate1 = (0 , 0 , 0) #define first position\n",
    "coordinate2 = (1 , 2 , 0) #define second position\n",
    "dist = calculate_distance(coordinate1, coordinate2) #runs points through calculate_distance function\n",
    "print(dist)"
   ]
  },
  {
   "cell_type": "code",
   "execution_count": 7,
   "metadata": {},
   "outputs": [
    {
     "ename": "NameError",
     "evalue": "name 'sqrt' is not defined",
     "output_type": "error",
     "traceback": [
      "\u001b[0;31m---------------------------------------------------------------------------\u001b[0m",
      "\u001b[0;31mNameError\u001b[0m                                 Traceback (most recent call last)",
      "\u001b[1;32m/Users/mssedesktop/calculate_distance.py\u001b[0m in \u001b[0;36mline 28\n\u001b[1;32m     <a href='file:///Users/mssedesktop/calculate_distance.py?line=25'>26</a>\u001b[0m coordinate1 \u001b[39m=\u001b[39m (\u001b[39m0\u001b[39m , \u001b[39m0\u001b[39m , \u001b[39m0\u001b[39m) \u001b[39m#define first position\u001b[39;00m\n\u001b[1;32m     <a href='file:///Users/mssedesktop/calculate_distance.py?line=26'>27</a>\u001b[0m coordinate2 \u001b[39m=\u001b[39m (\u001b[39m1\u001b[39m , \u001b[39m2\u001b[39m , \u001b[39m0\u001b[39m) \u001b[39m#define second position\u001b[39;00m\n\u001b[0;32m---> <a href='file:///Users/mssedesktop/calculate_distance.py?line=27'>28</a>\u001b[0m dist \u001b[39m=\u001b[39m calculate_distance(coordinate1, coordinate2) \u001b[39m#runs points through calculate_distance function\u001b[39;00m\n\u001b[1;32m     <a href='file:///Users/mssedesktop/calculate_distance.py?line=28'>29</a>\u001b[0m \u001b[39mprint\u001b[39m(dist)\n",
      "\u001b[1;32m/Users/mssedesktop/calculate_distance.py\u001b[0m in \u001b[0;36mline 22\u001b[0m, in \u001b[0;36mcalculate_distance\u001b[0;34m(coord1, coord2)\n\u001b[1;32m     <a href='file:///Users/mssedesktop/calculate_distance.py?line=19'>20</a>\u001b[0m y2 \u001b[39m=\u001b[39m coordinate2[\u001b[39m1\u001b[39m] \u001b[39m#pull out coordinate 2 y coordinate\u001b[39;00m\n\u001b[1;32m     <a href='file:///Users/mssedesktop/calculate_distance.py?line=20'>21</a>\u001b[0m z2 \u001b[39m=\u001b[39m coordinate2[\u001b[39m2\u001b[39m] \u001b[39m#pull out coordinate 2 z coordinate\u001b[39;00m\n\u001b[0;32m---> <a href='file:///Users/mssedesktop/calculate_distance.py?line=21'>22</a>\u001b[0m distance \u001b[39m=\u001b[39m sqrt(((x2 \u001b[39m-\u001b[39m x1) \u001b[39m*\u001b[39m\u001b[39m*\u001b[39m \u001b[39m2\u001b[39m) \u001b[39m+\u001b[39m ((y2 \u001b[39m-\u001b[39m y1) \u001b[39m*\u001b[39m\u001b[39m*\u001b[39m \u001b[39m2\u001b[39m) \u001b[39m+\u001b[39m ((z2 \u001b[39m-\u001b[39m z1) \u001b[39m*\u001b[39m\u001b[39m*\u001b[39m \u001b[39m2\u001b[39m)) \u001b[39m#calculates linear distance between the two points\u001b[39;00m\n\u001b[1;32m     <a href='file:///Users/mssedesktop/calculate_distance.py?line=22'>23</a>\u001b[0m \u001b[39mreturn\u001b[39;00m(distance)\n",
      "\u001b[0;31mNameError\u001b[0m: name 'sqrt' is not defined"
     ]
    }
   ],
   "source": [
    "#this code calculates the linear distance between two points in the cartesian space\n",
    "def calculate_distance(coord1, coord2):\n",
    "   \"\"\"\n",
    "   Calculate the distance between two 3D coordinates.\n",
    "  \n",
    "   Parameters\n",
    "   ----------\n",
    "   coord1, coord2: list\n",
    "       The atomic coordinates\n",
    "   \n",
    "   Returns\n",
    "   -------\n",
    "   distance: float\n",
    "       The distance between the two points.\n",
    "   \"\"\"\n",
    "   x1 = coordinate1[0] #pull out coordinate 1 x coordinate\n",
    "   y1 = coordinate1[1] #pull out coordinate 1 y coordinate\n",
    "   z1 = coordinate1[2] #pull out coordinate 1 z coordinate\n",
    "   x2 = coordinate2[0] #pull out coordinate 2 x coordinate\n",
    "   y2 = coordinate2[1] #pull out coordinate 2 y coordinate\n",
    "   z2 = coordinate2[2] #pull out coordinate 2 z coordinate\n",
    "   distance = sqrt(((x2 - x1) ** 2) + ((y2 - y1) ** 2) + ((z2 - z1) ** 2)) #calculates linear distance between the two points\n",
    "   return(distance)\n",
    "\n",
    "\n",
    "coordinate1 = (0 , 0 , 0) #define first position\n",
    "coordinate2 = (1 , 2 , 0) #define second position\n",
    "dist = calculate_distance(coordinate1, coordinate2) #runs points through calculate_distance function\n",
    "print(dist)"
   ]
  },
  {
   "cell_type": "code",
   "execution_count": 8,
   "metadata": {},
   "outputs": [
    {
     "ename": "NameError",
     "evalue": "name 'sqrt' is not defined",
     "output_type": "error",
     "traceback": [
      "\u001b[0;31m---------------------------------------------------------------------------\u001b[0m",
      "\u001b[0;31mNameError\u001b[0m                                 Traceback (most recent call last)",
      "\u001b[1;32m/Users/mssedesktop/calculate_distance.py\u001b[0m in \u001b[0;36mline 31\n\u001b[1;32m     <a href='file:///Users/mssedesktop/calculate_distance.py?line=28'>29</a>\u001b[0m coordinate1 \u001b[39m=\u001b[39m (\u001b[39m0\u001b[39m , \u001b[39m0\u001b[39m , \u001b[39m0\u001b[39m) \u001b[39m#define first position\u001b[39;00m\n\u001b[1;32m     <a href='file:///Users/mssedesktop/calculate_distance.py?line=29'>30</a>\u001b[0m coordinate2 \u001b[39m=\u001b[39m (\u001b[39m1\u001b[39m , \u001b[39m2\u001b[39m , \u001b[39m0\u001b[39m) \u001b[39m#define second position\u001b[39;00m\n\u001b[0;32m---> <a href='file:///Users/mssedesktop/calculate_distance.py?line=30'>31</a>\u001b[0m dist \u001b[39m=\u001b[39m calculate_distance(coordinate1, coordinate2) \u001b[39m#runs points through calculate_distance function\u001b[39;00m\n\u001b[1;32m     <a href='file:///Users/mssedesktop/calculate_distance.py?line=31'>32</a>\u001b[0m \u001b[39mprint\u001b[39m(dist)\n",
      "\u001b[1;32m/Users/mssedesktop/calculate_distance.py\u001b[0m in \u001b[0;36mline 25\u001b[0m, in \u001b[0;36mcalculate_distance\u001b[0;34m(coord1, coord2)\n\u001b[1;32m     <a href='file:///Users/mssedesktop/calculate_distance.py?line=22'>23</a>\u001b[0m y2 \u001b[39m=\u001b[39m coordinate2[\u001b[39m1\u001b[39m] \u001b[39m#pull out coordinate 2 y coordinate\u001b[39;00m\n\u001b[1;32m     <a href='file:///Users/mssedesktop/calculate_distance.py?line=23'>24</a>\u001b[0m z2 \u001b[39m=\u001b[39m coordinate2[\u001b[39m2\u001b[39m] \u001b[39m#pull out coordinate 2 z coordinate\u001b[39;00m\n\u001b[0;32m---> <a href='file:///Users/mssedesktop/calculate_distance.py?line=24'>25</a>\u001b[0m distance \u001b[39m=\u001b[39m sqrt(((x2 \u001b[39m-\u001b[39m x1) \u001b[39m*\u001b[39m\u001b[39m*\u001b[39m \u001b[39m2\u001b[39m) \u001b[39m+\u001b[39m ((y2 \u001b[39m-\u001b[39m y1) \u001b[39m*\u001b[39m\u001b[39m*\u001b[39m \u001b[39m2\u001b[39m) \u001b[39m+\u001b[39m ((z2 \u001b[39m-\u001b[39m z1) \u001b[39m*\u001b[39m\u001b[39m*\u001b[39m \u001b[39m2\u001b[39m)) \u001b[39m#calculates linear distance between the two points\u001b[39;00m\n\u001b[1;32m     <a href='file:///Users/mssedesktop/calculate_distance.py?line=25'>26</a>\u001b[0m \u001b[39mreturn\u001b[39;00m(distance)\n",
      "\u001b[0;31mNameError\u001b[0m: name 'sqrt' is not defined"
     ]
    }
   ],
   "source": [
    "#this code calculates the linear distance between two points in the cartesian space\n",
    "\n",
    "import math\n",
    "\n",
    "def calculate_distance(coord1, coord2):\n",
    "   \"\"\"\n",
    "   Calculate the distance between two 3D coordinates.\n",
    "  \n",
    "   Parameters\n",
    "   ----------\n",
    "   coord1, coord2: list\n",
    "       The atomic coordinates\n",
    "   \n",
    "   Returns\n",
    "   -------\n",
    "   distance: float\n",
    "       The distance between the two points.\n",
    "   \"\"\"\n",
    "   x1 = coordinate1[0] #pull out coordinate 1 x coordinate\n",
    "   y1 = coordinate1[1] #pull out coordinate 1 y coordinate\n",
    "   z1 = coordinate1[2] #pull out coordinate 1 z coordinate\n",
    "   x2 = coordinate2[0] #pull out coordinate 2 x coordinate\n",
    "   y2 = coordinate2[1] #pull out coordinate 2 y coordinate\n",
    "   z2 = coordinate2[2] #pull out coordinate 2 z coordinate\n",
    "   distance = sqrt(((x2 - x1) ** 2) + ((y2 - y1) ** 2) + ((z2 - z1) ** 2)) #calculates linear distance between the two points\n",
    "   return(distance)\n",
    "\n",
    "\n",
    "coordinate1 = (0 , 0 , 0) #define first position\n",
    "coordinate2 = (1 , 2 , 0) #define second position\n",
    "dist = calculate_distance(coordinate1, coordinate2) #runs points through calculate_distance function\n",
    "print(dist)"
   ]
  },
  {
   "cell_type": "code",
   "execution_count": 9,
   "metadata": {},
   "outputs": [
    {
     "ename": "NameError",
     "evalue": "name 'sqrt' is not defined",
     "output_type": "error",
     "traceback": [
      "\u001b[0;31m---------------------------------------------------------------------------\u001b[0m",
      "\u001b[0;31mNameError\u001b[0m                                 Traceback (most recent call last)",
      "\u001b[1;32m/Users/mssedesktop/calculate_distance.py\u001b[0m in \u001b[0;36mline 33\n\u001b[1;32m     <a href='file:///Users/mssedesktop/calculate_distance.py?line=30'>31</a>\u001b[0m coordinate1 \u001b[39m=\u001b[39m (\u001b[39m0\u001b[39m , \u001b[39m0\u001b[39m , \u001b[39m0\u001b[39m) \u001b[39m#define first position\u001b[39;00m\n\u001b[1;32m     <a href='file:///Users/mssedesktop/calculate_distance.py?line=31'>32</a>\u001b[0m coordinate2 \u001b[39m=\u001b[39m (\u001b[39m1\u001b[39m , \u001b[39m2\u001b[39m , \u001b[39m0\u001b[39m) \u001b[39m#define second position\u001b[39;00m\n\u001b[0;32m---> <a href='file:///Users/mssedesktop/calculate_distance.py?line=32'>33</a>\u001b[0m dist \u001b[39m=\u001b[39m calculate_distance(coordinate1, coordinate2) \u001b[39m#runs points through calculate_distance function\u001b[39;00m\n\u001b[1;32m     <a href='file:///Users/mssedesktop/calculate_distance.py?line=33'>34</a>\u001b[0m \u001b[39mprint\u001b[39m(dist)\n",
      "\u001b[1;32m/Users/mssedesktop/calculate_distance.py\u001b[0m in \u001b[0;36mline 27\u001b[0m, in \u001b[0;36mcalculate_distance\u001b[0;34m(coord1, coord2)\n\u001b[1;32m     <a href='file:///Users/mssedesktop/calculate_distance.py?line=24'>25</a>\u001b[0m y2 \u001b[39m=\u001b[39m coordinate2[\u001b[39m1\u001b[39m] \u001b[39m#pull out coordinate 2 y coordinate\u001b[39;00m\n\u001b[1;32m     <a href='file:///Users/mssedesktop/calculate_distance.py?line=25'>26</a>\u001b[0m z2 \u001b[39m=\u001b[39m coordinate2[\u001b[39m2\u001b[39m] \u001b[39m#pull out coordinate 2 z coordinate\u001b[39;00m\n\u001b[0;32m---> <a href='file:///Users/mssedesktop/calculate_distance.py?line=26'>27</a>\u001b[0m distance \u001b[39m=\u001b[39m sqrt(((x2 \u001b[39m-\u001b[39m x1) \u001b[39m*\u001b[39m\u001b[39m*\u001b[39m \u001b[39m2\u001b[39m) \u001b[39m+\u001b[39m ((y2 \u001b[39m-\u001b[39m y1) \u001b[39m*\u001b[39m\u001b[39m*\u001b[39m \u001b[39m2\u001b[39m) \u001b[39m+\u001b[39m ((z2 \u001b[39m-\u001b[39m z1) \u001b[39m*\u001b[39m\u001b[39m*\u001b[39m \u001b[39m2\u001b[39m)) \u001b[39m#calculates linear distance between the two points\u001b[39;00m\n\u001b[1;32m     <a href='file:///Users/mssedesktop/calculate_distance.py?line=27'>28</a>\u001b[0m \u001b[39mreturn\u001b[39;00m(distance)\n",
      "\u001b[0;31mNameError\u001b[0m: name 'sqrt' is not defined"
     ]
    }
   ],
   "source": [
    "#this code calculates the linear distance between two points in the cartesian space\n",
    "\n",
    "import random\n",
    "import math\n",
    "import matplotlib.pyplot as plt\n",
    "\n",
    "def calculate_distance(coord1, coord2):\n",
    "   \"\"\"\n",
    "   Calculate the distance between two 3D coordinates.\n",
    "  \n",
    "   Parameters\n",
    "   ----------\n",
    "   coord1, coord2: list\n",
    "       The atomic coordinates\n",
    "   \n",
    "   Returns\n",
    "   -------\n",
    "   distance: float\n",
    "       The distance between the two points.\n",
    "   \"\"\"\n",
    "   x1 = coordinate1[0] #pull out coordinate 1 x coordinate\n",
    "   y1 = coordinate1[1] #pull out coordinate 1 y coordinate\n",
    "   z1 = coordinate1[2] #pull out coordinate 1 z coordinate\n",
    "   x2 = coordinate2[0] #pull out coordinate 2 x coordinate\n",
    "   y2 = coordinate2[1] #pull out coordinate 2 y coordinate\n",
    "   z2 = coordinate2[2] #pull out coordinate 2 z coordinate\n",
    "   distance = sqrt(((x2 - x1) ** 2) + ((y2 - y1) ** 2) + ((z2 - z1) ** 2)) #calculates linear distance between the two points\n",
    "   return(distance)\n",
    "\n",
    "\n",
    "coordinate1 = (0 , 0 , 0) #define first position\n",
    "coordinate2 = (1 , 2 , 0) #define second position\n",
    "dist = calculate_distance(coordinate1, coordinate2) #runs points through calculate_distance function\n",
    "print(dist)"
   ]
  },
  {
   "cell_type": "code",
   "execution_count": 10,
   "metadata": {},
   "outputs": [
    {
     "name": "stdout",
     "output_type": "stream",
     "text": [
      "2.23606797749979\n"
     ]
    }
   ],
   "source": [
    "#this code calculates the linear distance between two points in the cartesian space\n",
    "\n",
    "import random\n",
    "import math\n",
    "import matplotlib.pyplot as plt\n",
    "\n",
    "def calculate_distance(coord1, coord2):\n",
    "   \"\"\"\n",
    "   Calculate the distance between two 3D coordinates.\n",
    "  \n",
    "   Parameters\n",
    "   ----------\n",
    "   coord1, coord2: list\n",
    "       The atomic coordinates\n",
    "   \n",
    "   Returns\n",
    "   -------\n",
    "   distance: float\n",
    "       The distance between the two points.\n",
    "   \"\"\"\n",
    "   x1 = coordinate1[0] #pull out coordinate 1 x coordinate\n",
    "   y1 = coordinate1[1] #pull out coordinate 1 y coordinate\n",
    "   z1 = coordinate1[2] #pull out coordinate 1 z coordinate\n",
    "   x2 = coordinate2[0] #pull out coordinate 2 x coordinate\n",
    "   y2 = coordinate2[1] #pull out coordinate 2 y coordinate\n",
    "   z2 = coordinate2[2] #pull out coordinate 2 z coordinate\n",
    "   distance2 = ((x2 - x1) ** 2) + ((y2 - y1) ** 2) + ((z2 - z1) ** 2) #calculates linear distance between the two points\n",
    "   distance = math.sqrt(distance2)\n",
    "   return(distance)\n",
    "\n",
    "\n",
    "coordinate1 = (0 , 0 , 0) #define first position\n",
    "coordinate2 = (1 , 2 , 0) #define second position\n",
    "dist = calculate_distance(coordinate1, coordinate2) #runs points through calculate_distance function\n",
    "print(dist)"
   ]
  },
  {
   "cell_type": "code",
   "execution_count": 11,
   "metadata": {},
   "outputs": [
    {
     "ename": "NameError",
     "evalue": "name 'distance' is not defined",
     "output_type": "error",
     "traceback": [
      "\u001b[0;31m---------------------------------------------------------------------------\u001b[0m",
      "\u001b[0;31mNameError\u001b[0m                                 Traceback (most recent call last)",
      "\u001b[1;32m/Users/mssedesktop/calculate_distance.py\u001b[0m in \u001b[0;36mline 33\n\u001b[1;32m     <a href='file:///Users/mssedesktop/calculate_distance.py?line=30'>31</a>\u001b[0m coordinate1 \u001b[39m=\u001b[39m (\u001b[39m0\u001b[39m , \u001b[39m0\u001b[39m , \u001b[39m0\u001b[39m) \u001b[39m#define first position\u001b[39;00m\n\u001b[1;32m     <a href='file:///Users/mssedesktop/calculate_distance.py?line=31'>32</a>\u001b[0m coordinate2 \u001b[39m=\u001b[39m (\u001b[39m1\u001b[39m , \u001b[39m1\u001b[39m , \u001b[39m1\u001b[39m) \u001b[39m#define second position\u001b[39;00m\n\u001b[0;32m---> <a href='file:///Users/mssedesktop/calculate_distance.py?line=32'>33</a>\u001b[0m dist \u001b[39m=\u001b[39m calculate_distance(coordinate1, coordinate2) \u001b[39m#runs points through calculate_distance function\u001b[39;00m\n\u001b[1;32m     <a href='file:///Users/mssedesktop/calculate_distance.py?line=33'>34</a>\u001b[0m \u001b[39mprint\u001b[39m(dist)\n",
      "\u001b[1;32m/Users/mssedesktop/calculate_distance.py\u001b[0m in \u001b[0;36mline 28\u001b[0m, in \u001b[0;36mcalculate_distance\u001b[0;34m(coord1, coord2)\n\u001b[1;32m     <a href='file:///Users/mssedesktop/calculate_distance.py?line=25'>26</a>\u001b[0m z2 \u001b[39m=\u001b[39m coordinate2[\u001b[39m2\u001b[39m] \u001b[39m#pull out coordinate 2 z coordinate\u001b[39;00m\n\u001b[1;32m     <a href='file:///Users/mssedesktop/calculate_distance.py?line=26'>27</a>\u001b[0m distance2 \u001b[39m=\u001b[39m math\u001b[39m.\u001b[39msqrt(((x2 \u001b[39m-\u001b[39m x1) \u001b[39m*\u001b[39m\u001b[39m*\u001b[39m \u001b[39m2\u001b[39m) \u001b[39m+\u001b[39m ((y2 \u001b[39m-\u001b[39m y1) \u001b[39m*\u001b[39m\u001b[39m*\u001b[39m \u001b[39m2\u001b[39m) \u001b[39m+\u001b[39m ((z2 \u001b[39m-\u001b[39m z1) \u001b[39m*\u001b[39m\u001b[39m*\u001b[39m \u001b[39m2\u001b[39m)) \u001b[39m#calculates linear distance between the two points\u001b[39;00m\n\u001b[0;32m---> <a href='file:///Users/mssedesktop/calculate_distance.py?line=27'>28</a>\u001b[0m \u001b[39mreturn\u001b[39;00m(distance)\n",
      "\u001b[0;31mNameError\u001b[0m: name 'distance' is not defined"
     ]
    }
   ],
   "source": [
    "#this code calculates the linear distance between two points in the cartesian space\n",
    "\n",
    "import random\n",
    "import math\n",
    "import matplotlib.pyplot as plt\n",
    "\n",
    "def calculate_distance(coord1, coord2):\n",
    "   \"\"\"\n",
    "   Calculate the distance between two 3D coordinates.\n",
    "  \n",
    "   Parameters\n",
    "   ----------\n",
    "   coord1, coord2: list\n",
    "       The atomic coordinates\n",
    "   \n",
    "   Returns\n",
    "   -------\n",
    "   distance: float\n",
    "       The distance between the two points.\n",
    "   \"\"\"\n",
    "   x1 = coordinate1[0] #pull out coordinate 1 x coordinate\n",
    "   y1 = coordinate1[1] #pull out coordinate 1 y coordinate\n",
    "   z1 = coordinate1[2] #pull out coordinate 1 z coordinate\n",
    "   x2 = coordinate2[0] #pull out coordinate 2 x coordinate\n",
    "   y2 = coordinate2[1] #pull out coordinate 2 y coordinate\n",
    "   z2 = coordinate2[2] #pull out coordinate 2 z coordinate\n",
    "   distance2 = math.sqrt(((x2 - x1) ** 2) + ((y2 - y1) ** 2) + ((z2 - z1) ** 2)) #calculates linear distance between the two points\n",
    "   return(distance)\n",
    "\n",
    "\n",
    "coordinate1 = (0 , 0 , 0) #define first position\n",
    "coordinate2 = (1 , 1 , 1) #define second position\n",
    "dist = calculate_distance(coordinate1, coordinate2) #runs points through calculate_distance function\n",
    "print(dist)"
   ]
  },
  {
   "cell_type": "code",
   "execution_count": 12,
   "metadata": {},
   "outputs": [
    {
     "name": "stdout",
     "output_type": "stream",
     "text": [
      "1.7320508075688772\n"
     ]
    }
   ],
   "source": [
    "#this code calculates the linear distance between two points in the cartesian space\n",
    "\n",
    "import random\n",
    "import math\n",
    "import matplotlib.pyplot as plt\n",
    "\n",
    "def calculate_distance(coord1, coord2):\n",
    "   \"\"\"\n",
    "   Calculate the distance between two 3D coordinates.\n",
    "  \n",
    "   Parameters\n",
    "   ----------\n",
    "   coord1, coord2: list\n",
    "       The atomic coordinates\n",
    "   \n",
    "   Returns\n",
    "   -------\n",
    "   distance: float\n",
    "       The distance between the two points.\n",
    "   \"\"\"\n",
    "   x1 = coordinate1[0] #pull out coordinate 1 x coordinate\n",
    "   y1 = coordinate1[1] #pull out coordinate 1 y coordinate\n",
    "   z1 = coordinate1[2] #pull out coordinate 1 z coordinate\n",
    "   x2 = coordinate2[0] #pull out coordinate 2 x coordinate\n",
    "   y2 = coordinate2[1] #pull out coordinate 2 y coordinate\n",
    "   z2 = coordinate2[2] #pull out coordinate 2 z coordinate\n",
    "   distance = math.sqrt(((x2 - x1) ** 2) + ((y2 - y1) ** 2) + ((z2 - z1) ** 2)) #calculates linear distance between the two points\n",
    "   return(distance)\n",
    "\n",
    "\n",
    "coordinate1 = (0 , 0 , 0) #define first position\n",
    "coordinate2 = (1 , 1 , 1) #define second position\n",
    "dist = calculate_distance(coordinate1, coordinate2) #runs points through calculate_distance function\n",
    "print(dist)"
   ]
  },
  {
   "cell_type": "code",
   "execution_count": 13,
   "metadata": {},
   "outputs": [
    {
     "name": "stdout",
     "output_type": "stream",
     "text": [
      "1.4142135623730951\n"
     ]
    }
   ],
   "source": [
    "#this code calculates the linear distance between two points in the cartesian space\n",
    "\n",
    "import random\n",
    "import math\n",
    "import matplotlib.pyplot as plt\n",
    "\n",
    "def calculate_distance(coord1, coord2):\n",
    "   \"\"\"\n",
    "   Calculate the distance between two 3D coordinates.\n",
    "  \n",
    "   Parameters\n",
    "   ----------\n",
    "   coord1, coord2: list\n",
    "       The atomic coordinates\n",
    "   \n",
    "   Returns\n",
    "   -------\n",
    "   distance: float\n",
    "       The distance between the two points.\n",
    "   \"\"\"\n",
    "   x1 = coordinate1[0] #pull out coordinate 1 x coordinate\n",
    "   y1 = coordinate1[1] #pull out coordinate 1 y coordinate\n",
    "   z1 = coordinate1[2] #pull out coordinate 1 z coordinate\n",
    "   x2 = coordinate2[0] #pull out coordinate 2 x coordinate\n",
    "   y2 = coordinate2[1] #pull out coordinate 2 y coordinate\n",
    "   z2 = coordinate2[2] #pull out coordinate 2 z coordinate\n",
    "   distance = math.sqrt(((x2 - x1) ** 2) + ((y2 - y1) ** 2) + ((z2 - z1) ** 2)) #calculates linear distance between the two points\n",
    "   return(distance)\n",
    "\n",
    "\n",
    "coordinate1 = (0 , 0 , 0) #define first position\n",
    "coordinate2 = (1 , 1 , 0) #define second position\n",
    "dist = calculate_distance(coordinate1, coordinate2) #runs points through calculate_distance function\n",
    "print(dist)"
   ]
  },
  {
   "cell_type": "code",
   "execution_count": 14,
   "metadata": {},
   "outputs": [
    {
     "name": "stdout",
     "output_type": "stream",
     "text": [
      "1.4142135623730951\n",
      "1.4142135623730951\n"
     ]
    }
   ],
   "source": [
    "#this code calculates the linear distance between two points in the cartesian space\n",
    "\n",
    "import random\n",
    "import math\n",
    "import matplotlib.pyplot as plt\n",
    "\n",
    "def calculate_distance(coord1, coord2):\n",
    "   \"\"\"\n",
    "   Calculate the distance between two 3D coordinates.\n",
    "  \n",
    "   Parameters\n",
    "   ----------\n",
    "   coord1, coord2: list\n",
    "       The atomic coordinates\n",
    "   \n",
    "   Returns\n",
    "   -------\n",
    "   distance: float\n",
    "       The distance between the two points.\n",
    "   \"\"\"\n",
    "   x1 = coordinate1[0] #pull out coordinate 1 x coordinate\n",
    "   y1 = coordinate1[1] #pull out coordinate 1 y coordinate\n",
    "   z1 = coordinate1[2] #pull out coordinate 1 z coordinate\n",
    "   x2 = coordinate2[0] #pull out coordinate 2 x coordinate\n",
    "   y2 = coordinate2[1] #pull out coordinate 2 y coordinate\n",
    "   z2 = coordinate2[2] #pull out coordinate 2 z coordinate\n",
    "   distance = math.sqrt(((x2 - x1) ** 2) + ((y2 - y1) ** 2) + ((z2 - z1) ** 2)) #calculates linear distance between the two points\n",
    "   return(distance)\n",
    "\n",
    "\n",
    "coordinate1 = (0 , 0 , 0) #define first position\n",
    "coordinate2 = (1 , 1 , 0) #define second position\n",
    "dist = calculate_distance(coordinate1, coordinate2) #runs points through calculate_distance function\n",
    "print(dist)\n",
    "\n",
    "check = dist ** 2\n",
    "print(dist)"
   ]
  },
  {
   "cell_type": "code",
   "execution_count": 15,
   "metadata": {},
   "outputs": [
    {
     "name": "stdout",
     "output_type": "stream",
     "text": [
      "1.4142135623730951\n",
      "2.0000000000000004\n"
     ]
    }
   ],
   "source": [
    "#this code calculates the linear distance between two points in the cartesian space\n",
    "\n",
    "import random\n",
    "import math\n",
    "import matplotlib.pyplot as plt\n",
    "\n",
    "def calculate_distance(coord1, coord2):\n",
    "   \"\"\"\n",
    "   Calculate the distance between two 3D coordinates.\n",
    "  \n",
    "   Parameters\n",
    "   ----------\n",
    "   coord1, coord2: list\n",
    "       The atomic coordinates\n",
    "   \n",
    "   Returns\n",
    "   -------\n",
    "   distance: float\n",
    "       The distance between the two points.\n",
    "   \"\"\"\n",
    "   x1 = coordinate1[0] #pull out coordinate 1 x coordinate\n",
    "   y1 = coordinate1[1] #pull out coordinate 1 y coordinate\n",
    "   z1 = coordinate1[2] #pull out coordinate 1 z coordinate\n",
    "   x2 = coordinate2[0] #pull out coordinate 2 x coordinate\n",
    "   y2 = coordinate2[1] #pull out coordinate 2 y coordinate\n",
    "   z2 = coordinate2[2] #pull out coordinate 2 z coordinate\n",
    "   distance = math.sqrt(((x2 - x1) ** 2) + ((y2 - y1) ** 2) + ((z2 - z1) ** 2)) #calculates linear distance between the two points\n",
    "   return(distance)\n",
    "\n",
    "\n",
    "coordinate1 = (0 , 0 , 0) #define first position\n",
    "coordinate2 = (1 , 1 , 0) #define second position\n",
    "dist = calculate_distance(coordinate1, coordinate2) #runs points through calculate_distance function\n",
    "print(dist)\n",
    "\n",
    "check = dist ** 2\n",
    "print(check)"
   ]
  }
 ],
 "metadata": {
  "kernelspec": {
   "display_name": "Python 3 (ipykernel)",
   "language": "python",
   "name": "python3"
  },
  "language_info": {
   "codemirror_mode": {
    "name": "ipython",
    "version": 3
   },
   "file_extension": ".py",
   "mimetype": "text/x-python",
   "name": "python",
   "nbconvert_exporter": "python",
   "pygments_lexer": "ipython3",
   "version": "3.11.4"
  }
 },
 "nbformat": 4,
 "nbformat_minor": 4
}
